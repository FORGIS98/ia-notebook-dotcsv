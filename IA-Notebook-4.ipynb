{
  "nbformat": 4,
  "nbformat_minor": 0,
  "metadata": {
    "colab": {
      "name": "IA-Notebook-4.ipynb",
      "provenance": [],
      "collapsed_sections": []
    },
    "kernelspec": {
      "name": "python3",
      "display_name": "Python 3"
    },
    "language_info": {
      "name": "python"
    }
  },
  "cells": [
    {
      "cell_type": "markdown",
      "metadata": {
        "id": "U72AtTIMERLz"
      },
      "source": [
        "El objetivo es resolver un problema de clasificación ciruclar, tenemos 2 nubes de datos, una nube rodea a otra, y queremos ser capaces de clasificar/separar los datos."
      ]
    },
    {
      "cell_type": "code",
      "metadata": {
        "id": "i9t8DfemC4fO"
      },
      "source": [
        "import numpy as np\n",
        "import scipy as sc\n",
        "import matplotlib.pyplot as plt\n",
        "\n",
        "from sklearn.datasets import make_circles"
      ],
      "execution_count": 42,
      "outputs": []
    },
    {
      "cell_type": "code",
      "metadata": {
        "colab": {
          "base_uri": "https://localhost:8080/",
          "height": 265
        },
        "id": "GpAkoY6XEOJ0",
        "outputId": "69398736-1bef-4ecb-8741-d8f2c93099da"
      },
      "source": [
        "# Crear el dataset\n",
        "\n",
        "n = 500 # numero de registros que tenemos en nuestros datos\n",
        "p = 2 # numero caracteristicas que tenemos sobre cada dato\n",
        "# Por ejemplo, si tratamos con personas tendríamos 500 personas con 2 datos que pueden ser edad y sexo\n",
        "# Aquí vamos a usar 2 para simplificar la visualización de los datos\n",
        "\n",
        "X, y = make_circles(n_samples=n, factor=0.5, noise=0.05)\n",
        "\n",
        "plt.scatter(X[y == 0, 0], X[y == 0, 1], c=\"skyblue\")\n",
        "plt.scatter(X[y == 1, 0], X[y == 1, 1], c=\"salmon\")\n",
        "plt.axis(\"equal\")\n",
        "plt.show()"
      ],
      "execution_count": 43,
      "outputs": [
        {
          "output_type": "display_data",
          "data": {
            "image/png": "[encoded data removed]",
            "text/plain": [
              "<Figure size 432x288 with 1 Axes>"
            ]
          },
          "metadata": {
            "tags": [],
            "needs_background": "light"
          }
        }
      ]
    },
    {
      "cell_type": "code",
      "metadata": {
        "id": "clJIQK9OHJ45"
      },
      "source": [
        "# Clase de la capa de la red\n",
        "\n",
        "class neural_layer():\n",
        "  \"\"\"\n",
        "    Clase para capa de neuronas, inicilizamos con\n",
        "    n_conn = número de conexiones que entran en una neurona de la capa anterior\n",
        "    n_neur = número de neuronas de la capa\n",
        "    act_f = función de activación\n",
        "  \"\"\"\n",
        "  def __init__(self, n_conn, n_neur, act_f):\n",
        "    self.act_f = act_f\n",
        "    # vector (parametro de bayes) tendremos tantos como neuronas de esta capa\n",
        "    self.b = np.random.rand(1, n_neur) * 2 - 1 # random nos da valores de [0 a 1], y los queremos de [-1 a 1]\n",
        "    self.W = np.random.rand(n_conn, n_neur) * 2 - 1 # matriz de pesos"
      ],
      "execution_count": 44,
      "outputs": []
    },
    {
      "cell_type": "code",
      "metadata": {
        "colab": {
          "base_uri": "https://localhost:8080/",
          "height": 265
        },
        "id": "nA30VwZnKr5N",
        "outputId": "51c509b5-f7a1-45e4-e88d-bdcf3754a04a"
      },
      "source": [
        "# Funciones de activación\n",
        "sigm = (lambda x: 1 / (1 + np.exp(-x)), # función sigmoide\n",
        "        lambda x: x * (1 - x)) # derivada de la función sigmoide\n",
        "# Dejamos lista la derivada también para luego usarla cuando \n",
        "# utilicemos el algoritmo de backpropagation\n",
        "\n",
        "# Para el tuto solo usamos la sigmoide,\n",
        "# pero programemos las demás por amor al arte\n",
        "relu = lambda x: np.maximum(0, x)\n",
        "tanh = lambda x: np.tanh(x)\n",
        "softmax = lambda x: np.exp(x) / np.sum(np.exp(x), axis = 0)\n",
        "linear = lambda x: x\n",
        "bynary_step = lambda x: np.heaviside(x, 1)\n",
        "\n",
        "_x = np.linspace(-5, 5, 100)\n",
        "plt.plot(_x, bynary_step(_x))\n",
        "plt.show()"
      ],
      "execution_count": 45,
      "outputs": [
        {
          "output_type": "display_data",
          "data": {
            "image/png": "[encoded data removed]",
            "text/plain": [
              "<Figure size 432x288 with 1 Axes>"
            ]
          },
          "metadata": {
            "tags": [],
            "needs_background": "light"
          }
        }
      ]
    },
    {
      "cell_type": "code",
      "metadata": {
        "id": "aD0WnfeONrHT"
      },
      "source": [
        "# Viable? Si, pero no bonito:\n",
        "# l0 = neural_layer(p, 4, sigm) # layer 0 con p conexiones (que son 2 en este caso), 4 neuronas y la funcion sigmoide\n",
        "# l1 = neural_later(4, 8, sigm)\n",
        "# l2 = neural_later(8, 5, sigm)\n",
        "# ...\n",
        "\n",
        "\n",
        "\n",
        "def create_nn(topology, act_f):\n",
        "  nn = [] # contenedor de todas las capas de la red neuronal\n",
        "\n",
        "  for lx, _ in enumerate(topology[:-1]): # recorrer todo hasta el último valor\n",
        "    nn.append(neural_layer(topology[lx], topology[lx + 1], act_f))\n",
        "  return nn \n",
        "\n",
        "# lista de numero de neuronas de la red, termina en 1\n",
        "# pues el resultado que esperamos es binario, o pertenece a la nube\n",
        "# de puntos del centro o no\n",
        "topology = [p, 4, 8, 16, 8, 4, 1] # topologia de la red neuronal\n",
        "# se podría tener otro parametro para elegir que learning rate o que función de activación\n",
        "# se va a utilizar en cada una de las capas, por ezpz vamos a usar la misma funcion de activacion\n",
        "neural_net = create_nn(topology, sigm)"
      ],
      "execution_count": 46,
      "outputs": []
    },
    {
      "cell_type": "code",
      "metadata": {
        "colab": {
          "base_uri": "https://localhost:8080/"
        },
        "id": "BV2gBeytXR8_",
        "outputId": "0ebfc042-d5b8-4b53-f9fd-32f79dde8509"
      },
      "source": [
        "# Funcion para entrenar la red neuronal\n",
        "# Paso 1: Dato de entrada y salida y se procesa hacia delante haciendo las funciones ponderadas y utilizando las funciones de activacion\n",
        "# Paso 2: Se compara el resultado con el resultado real con la función de coste para tener el error, y hacemos backpropagation para\n",
        "# tener las derivadas parciales y poder hacer el paso 3\n",
        "# Paso 3: descenso del gradiente para optimizar la función de coste aka entrenar la red\n",
        "\n",
        "f_coste = (lambda Ypredicha, Yreal: np.mean((Ypredicha - Yreal) ** 2), # funcion de coste (error cuadrático medio)\n",
        "           lambda Ypredicha, Yreal: (Ypredicha - Yreal)) # derivada de lo anterior\n",
        "\n",
        "def train(neural_net, X, y, f_coste, lr=0.5, train=True): # lr = learning rate\n",
        "\n",
        "  out = [(None, X)] # vamos a guardar el resultado de la suma ponderada y de la funcion de activacion en tupla [(), (), ...]\n",
        "\n",
        "  # Forward pass (el paso 1 vamos)\n",
        "  for lx, layer in enumerate(neural_net):\n",
        "    z = out[-1][1] @ neural_net[lx].W + neural_net[lx].b # suma ponderada de la 1 capa\n",
        "    a = neural_net[lx].act_f[0](z) # activación\n",
        "    out.append((z, a))\n",
        "  print(f_coste[0](out[-1][1], y))\n",
        "\n",
        "  if train:\n",
        "    # Backwar pass (paso 2)\n",
        "    # Gradient descent (paso 3)\n",
        "    pass\n",
        "  \n",
        "\n",
        "train(neural_net, X, y, f_coste)"
      ],
      "execution_count": 48,
      "outputs": [
        {
          "output_type": "stream",
          "text": [
            "0.26664046994729595\n"
          ],
          "name": "stdout"
        }
      ]
    }
  ]
}