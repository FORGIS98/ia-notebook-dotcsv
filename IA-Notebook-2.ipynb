{
 "cells": [
  {
   "cell_type": "markdown",
   "id": "7598be69",
   "metadata": {},
   "source": [
    "El objetivo es trucar la red neuronal **Inception V3** con un ataque adversario."
   ]
  },
  {
   "cell_type": "code",
   "execution_count": 2,
   "id": "2b572792",
   "metadata": {},
   "outputs": [],
   "source": [
    "import tensorflow as tf # plataforma para el aprendizaje automatico \n",
    "import keras # deep learning framework/api\n",
    "\n",
    "import matplotlib.pyplot as plt\n",
    "import numpy as np"
   ]
  },
  {
   "cell_type": "code",
   "execution_count": 3,
   "id": "bd4c1e12",
   "metadata": {},
   "outputs": [],
   "source": [
    "from keras.applications.inception_v3 import InceptionV3, decode_predictions # importamos la red neuronal ya entrenada\n",
    "from keras import backend as k"
   ]
  },
  {
   "cell_type": "code",
   "execution_count": 6,
   "id": "61d3ed35",
   "metadata": {},
   "outputs": [],
   "source": [
    "iv3 = InceptionV3() # Cargamos la red neuronal, la primera vez se descarga de internet"
   ]
  },
  {
   "cell_type": "code",
   "execution_count": 26,
   "id": "a418feea",
   "metadata": {
    "scrolled": true
   },
   "outputs": [
    {
     "name": "stdout",
     "output_type": "stream",
     "text": [
      "[[('n04285008', 'sports_car', 0.8140701), ('n03459775', 'grille', 0.089450285), ('n02974003', 'car_wheel', 0.042520903), ('n03100240', 'convertible', 0.016252259), ('n04037443', 'racer', 0.0022947474)]]\n"
     ]
    }
   ],
   "source": [
    "# print(iv3.summary()) # Ver resumen de la red neuronal\n",
    "\n",
    "from keras.preprocessing import image\n",
    "\n",
    "# Para introducir la imágen a InceptionV3, la imagen requiere de unos requisitos\n",
    "# Cargamos la imagen con dimension 299x299 (para iv3) y la convertimos a una matriz de datos\n",
    "coche_2 = image.img_to_array(image.load_img(\"./img/coche_2.jpg\", target_size=(299,299)))\n",
    "\n",
    "# Cambiamos el rango o base, de [0-255] a [-1-1], por que\n",
    "# así espera iv3 que pases los datos de la imágen\n",
    "coche_2 /= 255\n",
    "coche_2 -= 0.5\n",
    "coche_2 *= 2\n",
    "\n",
    "# La red neuronal espera que como entrada le pasemos un tensor,\n",
    "# este tiene una dimensión más que la imágen que le pasamos,\n",
    "# la primera dimensión hace referencia al tamaño del lote o \"badge size?\"\n",
    "# esto es útil si queremos meter varias imágenes\n",
    "\n",
    "coche_2 = coche_2.reshape([1, coche_2.shape[0], coche_2.shape[1], coche_2.shape[2]])\n",
    "\n",
    "# LISTO, la variable ya esta lista para pasarsela al modelo\n",
    "resultado = iv3.predict(coche_2)\n",
    "print(decode_predictions(resultado))"
   ]
  }
 ],
 "metadata": {
  "kernelspec": {
   "display_name": "Python 3",
   "language": "python",
   "name": "python3"
  },
  "language_info": {
   "codemirror_mode": {
    "name": "ipython",
    "version": 3
   },
   "file_extension": ".py",
   "mimetype": "text/x-python",
   "name": "python",
   "nbconvert_exporter": "python",
   "pygments_lexer": "ipython3",
   "version": "3.9.6"
  }
 },
 "nbformat": 4,
 "nbformat_minor": 5
}
