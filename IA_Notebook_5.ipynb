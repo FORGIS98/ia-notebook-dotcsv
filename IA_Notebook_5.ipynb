{
  "nbformat": 4,
  "nbformat_minor": 0,
  "metadata": {
    "colab": {
      "name": "IA_Notebook_5.ipynb",
      "provenance": [],
      "collapsed_sections": []
    },
    "kernelspec": {
      "name": "python3",
      "display_name": "Python 3"
    },
    "language_info": {
      "name": "python"
    }
  },
  "cells": [
    {
      "cell_type": "markdown",
      "metadata": {
        "id": "QeVr5Wfg1vx5"
      },
      "source": [
        "Vamos a implementar desde 0 con `tensorflow 2.0` un modelo tipo `pix2pix` para darle una imágen de baja calidad y que el modelo sea capaz de mejorar la calidad de la misma. (En concreto, de una flor con bajo detalle/boceto a una flor.)"
      ]
    },
    {
      "cell_type": "code",
      "metadata": {
        "id": "DNHrrQn_1WjZ"
      },
      "source": [
        "# Activamos la versión 2 de tensorflow para tener el eager mode\n",
        "# Mas info: https://www.tensorflow.org/guide/eager\n",
        "%tensorflow_version 2.x\n",
        "\n",
        "import tensorflow as tf\n",
        "import matplotlib.pyplot as plt\n",
        "import numpy as np\n",
        "\n",
        "# Ruta raiz\n",
        "PATH = \"/content/drive/MyDrive/Flowers\"\n",
        "\n",
        "# Ruta de datos de entrada y salida\n",
        "INPATH = PATH + \"/InputFlowers\"\n",
        "OUTPATH = PATH + \"/OutputFlowers\"\n",
        "# Ruta de checkpoints\n",
        "CKPATH = PATH + \"/Checkpoints\"\n",
        "\n",
        "# Primero pillamos todas las fotos de INPATH en una lista\n",
        "# Ejecutamos un comando de bash y con -1 lo devuelve en una lista en vez de columnas\n",
        "imgurls = !ls -1 \"{INPATH}\""
      ],
      "execution_count": null,
      "outputs": []
    },
    {
      "cell_type": "code",
      "metadata": {
        "colab": {
          "base_uri": "https://localhost:8080/"
        },
        "id": "GlprJ06xcICa",
        "outputId": "943b376a-06c5-4688-f233-5a447e8fe32e"
      },
      "source": [
        "# Vamos a desordenar las imágenes para entrenar a la red neuronal correctamente\n",
        "n = 500 # trabajremos con 500 imágenes\n",
        "train_n = round(n * 0.80) # 80% para el dataset de entrenamiento (y 20% para test :/)\n",
        "\n",
        "# Randomizar\n",
        "randurls = np.copy(imgurls)\n",
        "\n",
        " # Esto es para el tutorial, así todos tenemos las fotos igual de desordenadas\n",
        " # osea, tras desordenar todos tenemos el mismo orden de fotos\n",
        "np.random.seed(23)\n",
        "\n",
        "np.random.shuffle(randurls)\n",
        "\n",
        "# Peticion de train/test\n",
        "tr_urls = randurls[:train_n] # Pillamos el primer 80%\n",
        "ts_urls = randurls[train_n:n] # Y luego el resto (el 20%)\n",
        "\n",
        "print(len(imgurls), len(tr_urls), len(ts_urls))"
      ],
      "execution_count": null,
      "outputs": [
        {
          "output_type": "stream",
          "text": [
            "8189 400 100\n"
          ],
          "name": "stdout"
        }
      ]
    },
    {
      "cell_type": "code",
      "metadata": {
        "id": "LwOb_Xdrd86Y"
      },
      "source": [
        "IMG_WIDTH = 256\n",
        "IMG_HEIGHT = 256\n",
        "\n",
        "# Reescalar las imágenes, tgimg = target image\n",
        "def resize(inimg, tgimg, height, width):\n",
        "  inimg = tf.image.resize(inimg, [height, width])\n",
        "  tgimg = tf.image.resize(tgimg, [height, width])\n",
        "\n",
        "  return inimg, tgimg\n",
        "\n",
        "# Normalizar las imagenes al rango [-1, +1] (normalmente las imagenes vinen con [0, 255])\n",
        "def normalize(inimg, tgimg):\n",
        "  inimg = (inimg / 127.5) - 1\n",
        "  tgimg = (tgimg / 127.5) - 1\n",
        "\n",
        "  return inimg, tgimg\n",
        "\n",
        "# Aumentacion de datos, básicamente es coger el dataset\n",
        "# y generar imágenes a partir de dicho dataset con pequeños cambios\n",
        "# en las imágenes originales y así tener un dataset mucho más grande.\n",
        "# Osea, si solo tienes 1 foto de una flor, pues con esta función puedes generar\n",
        "# fotos parecidas pero no iguales para tener varias fotos (osea, más dataset)\n",
        "# Como por ejemplo darle la vuelta a la imagen, cambiar el centro de la imagen, cortar parte de la imagen...\n",
        "def random_jitter(inimg, tgimg):\n",
        "  inimg, tgimg = resize(inimg, tgimg, 286, 286) # aumentamos el tamaño de la foto\n",
        "\n",
        "  stacked_image = tf.stack([inimg, tgimg], axis = 0)\n",
        "  # cortamos la imagen de distintas formas, nos quedamos con la esquina superior izq o dcha o lo que sea\n",
        "  # [2, HEIGHT, WIDTH, 3] = [2 imagenes (inimg y tgimg), altura, anchura, 3 canales de color (RGB)]\n",
        "  cropped_image = tf.image.random_crop(stacked_image, size = [2, IMG_HEIGHT, IMG_WIDTH, 3])\n",
        "\n",
        "  inimg, tgimg = cropped_image[0], cropped_image[1]\n",
        "\n",
        "  # de forma aleatoria le damos la vuelta a la imagen, tipo espejo\n",
        "  if tf.random.uniform(()) > 0.5:\n",
        "    inimg = tf.image.flip_left_right(inimg)\n",
        "    tgimg = tf.image.flip_left_right(tgimg)\n",
        "\n",
        "  return inimg, tgimg\n",
        "\n",
        "# \n",
        "def load_image(filename, augment=True):\n",
        "\n",
        "  # Cargamos la imágen con tf.io.read_file, luego la decodificamos como jpeg y luego le hacemos un cast\n",
        "  # para transformarla a valores de tipo float (para las divisiones en resize o normalize) y con el corchete\n",
        "  # [..., :3] le obligo a que cargue solo 3 componentes, RGB, esto esta pensado pues si cargo una imágen PNG\n",
        "  # puede tener un canal alfa y serían 4 componentes. RGBA (creo que es A de alpha :/ tiene sentido supongo XD)\n",
        "  inimg = tf.cast(tf.image.decode_jpeg(tf.io.read_file(INPATH + '/' + filename)), tf.float32)[..., :3]\n",
        "  tgimg = tf.cast(tf.image.decode_jpeg(tf.io.read_file(OUTPATH + '/' + filename)), tf.float32)[..., :3]\n",
        "\n",
        "  # primero reescalamos la imagen, luego aumentamos el dataset (si var a true)\n",
        "  # y luego se normazlia a [-1, 1]\n",
        "  inimg, tgimg = resize(inimg, tgimg, IMG_HEIGHT, IMG_WIDTH)\n",
        "  if augment:\n",
        "    inimg, tgimg = random_jitter(inimg, tgimg)\n",
        "  inimg, tgimg = normalize(inimg, tgimg)\n",
        "\n",
        "  return inimg, tgimg\n",
        "\n",
        "# Encapsulamos la función anterior según vamos a hacer entrenamiento o test\n",
        "def load_train_image(filename):\n",
        "  return load_image(filename, True)\n",
        "\n",
        "def load_test_image(filename):\n",
        "  return load_image(filename, False)"
      ],
      "execution_count": null,
      "outputs": []
    },
    {
      "cell_type": "code",
      "metadata": {
        "id": "xiMqAyyTQDKD"
      },
      "source": [
        "# Probamos que funque todo lo anterior :D\n",
        "plt.imshow(load_train_image(randurls[0])[0])\n",
        "plt.show()\n",
        "plt.imshow(load_train_image(randurls[0])[1])"
      ],
      "execution_count": null,
      "outputs": []
    },
    {
      "cell_type": "code",
      "metadata": {
        "id": "aDwQSBaLOkr2"
      },
      "source": [
        "# Vamos a generar un dataset a partir del listado de imágenes para entrenamiento (80%)\n",
        "train_dataset = tf.data.Dataset.from_tensor_slices(tr_urls)\n",
        "# Lo anterior no carga las imágenes, es map() quien va a ejecutar load_train_image con cada imágen del tensor\n",
        "# train_dataset, y además le decimos a tf que decida cuantos hilos utilizará para este proceso\n",
        "train_dataset = train_dataset.map(load_train_image, num_parallel_calls=tf.data.experimental.AUTOTUNE)\n",
        "# Distribuimos los datos es distintos lotes, para luego suministrarlos a la red neuronal\n",
        "# para aplicar el proceso de optimización, en el paper de pix2pix utilizan lotes de 1 así que 1\n",
        "train_dataset = train_dataset.batch(1)\n",
        "\n",
        "# Ahora hacemos lo mismo con el test\n",
        "test_dataset = tf.data.Dataset.from_tensor_slices(ts_urls)\n",
        "test_dataset = test_dataset.map(load_test_image, num_parallel_calls=tf.data.experimental.AUTOTUNE)\n",
        "test_dataset = test_dataset.batch(1)"
      ],
      "execution_count": null,
      "outputs": []
    },
    {
      "cell_type": "code",
      "metadata": {
        "id": "GoCe8qw3Q3vD"
      },
      "source": [
        "# En este momento tenemos el dataset listo con en cada loste un par de datos inimg y tgimg\n",
        "# podemos pedirle por ejemplo que devuelva X número de lotes de la siguiente forma:\n",
        "train_dataset.take(5) # devuelve los objetos de 5 lotes\n",
        "# podemos iterar sobre los lotes:\n",
        "for inimg, tgimg in train_dataset.take(5):\n",
        "  plt.imshow(tgimg[0,...])\n",
        "  plt.show()"
      ],
      "execution_count": null,
      "outputs": []
    },
    {
      "cell_type": "markdown",
      "metadata": {
        "id": "Ksok0zckRR1a"
      },
      "source": [
        "### Pasemos al fin a diseñar la arquitectura **pix2pix**"
      ]
    },
    {
      "cell_type": "markdown",
      "metadata": {
        "id": "ZLLE3rPMT9II"
      },
      "source": [
        "Para ello vamos a apoyarnos en los datos del apendice del paper"
      ]
    },
    {
      "cell_type": "code",
      "metadata": {
        "id": "KAvFOkpARPZ9"
      },
      "source": [
        "from tensorflow.keras import *\n",
        "from tensorflow.keras.layers import *\n",
        "\n",
        "# ENCODER\n",
        "def downsample(filters, apply_batchnorm = True):\n",
        "  result = Sequential() # secuencia de capas\n",
        "\n",
        "  initializer = tf.random_normal_initializer(0, 0.02) # (media, desviacion estandard)\n",
        "\n",
        "  # capa convolucional 2D\n",
        "  result.add(Conv2D(filters, \n",
        "                    kernel_size = 4, # 4x4\n",
        "                    strides = 2,\n",
        "                    padding = \"same\", # conservar el tamaño de los mapas de caracteristicas\n",
        "                    kernel_initializer = initializer,\n",
        "                    use_bias = not apply_batchnorm))\n",
        "\n",
        "  if apply_batchnorm:\n",
        "    # capa de BatchNormalization\n",
        "    result.add(BatchNormalization())\n",
        "\n",
        "  # capa de activacion LeakyReLu +/- = a Relu\n",
        "  result.add(LeakyReLU())\n",
        "\n",
        "  return result"
      ],
      "execution_count": null,
      "outputs": []
    },
    {
      "cell_type": "code",
      "metadata": {
        "id": "8xrJiCaeW8Sj"
      },
      "source": [
        "# DECODER\n",
        "def upsample(filters, apply_dropout = False):\n",
        "  result = Sequential() # secuencia de capas\n",
        "\n",
        "  initializer = tf.random_normal_initializer(0, 0.02) # (media, desviacion estandard)\n",
        "\n",
        "  # capa convolucional 2D\n",
        "  result.add(Conv2DTranspose(filters, \n",
        "                            kernel_size=4, # 4x4\n",
        "                            strides=2,\n",
        "                            padding=\"same\", # conservar el tamaño de los mapas de caracteristicas\n",
        "                            kernel_initializer=initializer,\n",
        "                            use_bias = False))\n",
        "\n",
        "  # capa de BatchNormalization\n",
        "  result.add(BatchNormalization())\n",
        "\n",
        "  if apply_dropout:\n",
        "    # Capa de Dropout, desconecta de manera aleatoria algunas conexiones\n",
        "    # de la red neuronal\n",
        "    result.add(Dropout(0.5)) # 0.5 porque lo dice el paper\n",
        "\n",
        "  # capa de activacion Relu\n",
        "  result.add(ReLU())\n",
        "\n",
        "  return result"
      ],
      "execution_count": null,
      "outputs": []
    },
    {
      "cell_type": "code",
      "metadata": {
        "id": "0xyV0nOpX9k5"
      },
      "source": [
        "# Modelo generador es una capa de tipo U-Net\n",
        "\n",
        "def Generator():\n",
        "  # Especificamos la capa de entrada\n",
        "  # Dimeniones [None, None, 3] = [Ancho, Largo, Canales de Colores]\n",
        "  # Ancho y Largo a None para poder meter imágenes de diff dimensiones\n",
        "  inputs = tf.keras.layers.Input(shape = [None, None, 3])\n",
        "\n",
        "  # Bloques que conforman la red, esto se saca del Apendice del paper\n",
        "  # encoder: C64-C128-C256-C512... lo mismo para el up_stack (decoder)\n",
        "\n",
        "  # Los comentarios de la derecha son las dimensiones de las imágenes resultantes\n",
        "  # osea, tenemos bs que es el batch size, y si metemos una imágen de 256x256\n",
        "  # pues sabemos que en el downsample disminuye a la mitad por lo que queda 128x128\n",
        "  # y luego quedan 64 mapas de caracteristicas (pues tenemos 64 filtros)\n",
        "  down_stack = [\n",
        "    downsample(64, apply_batchnorm = False), # (bs, 128, 128, 64)\n",
        "    downsample(128),                         # (bs, 64,  64,  128) \n",
        "    downsample(256),                         # (bs, 32,  32,  256) \n",
        "    downsample(512),                         # (bs, 16,  16,  512) \n",
        "    downsample(512),                         # (bs, 8,   8,   512) \n",
        "    downsample(512),                         # (bs, 4,   4,   512) \n",
        "    downsample(512),                         # (bs, 2,   2,   512) \n",
        "    downsample(512),                         # (bs, 1,   1,   512) \n",
        "  ]\n",
        "\n",
        "  up_stack = [\n",
        "    upsample(512, apply_dropout = True),     # (bs, 2,   2,   1024)\n",
        "    upsample(512, apply_dropout = True),     # (bs, 4,   4,   1024)\n",
        "    upsample(512, apply_dropout = True),     # (bs, 8,   8,   1024)\n",
        "    upsample(512),                           # (bs, 16,  16,  1024)\n",
        "    upsample(256),                           # (bs, 32,  32,  512)\n",
        "    upsample(128),                           # (bs, 64,  64,  256)\n",
        "    upsample(64),                            # (bs, 128, 128, 128)\n",
        "  ]\n",
        "\n",
        "  initializer = tf.random_normal_initializer(0, 0.02)\n",
        "  # Última capa que genera la imágen final, la imágen que estamos buscando\n",
        "  last = Conv2DTranspose(filters = 3,\n",
        "                         kernel_size = 4,\n",
        "                         strides = 2,\n",
        "                         padding = \"same\", \n",
        "                         kernel_initializer = initializer,\n",
        "                         activation = \"tanh\")\n",
        "                         # usamos tanh por que las imágenes vienen del rango [-1, 1]\n",
        "                         # que tiene el modelo de salida de [-1, 1]\n",
        "  \n",
        "  # Por ahora no hemos conectado nada entre capas, solo hemos escrito como es la estructura vamos,\n",
        "  # pasemos a a conectar las capas\n",
        "  x = inputs # primera capa\n",
        "\n",
        "  s = [] # para las skeap connections\n",
        "  concat = Concatenate() # para las skeap connections\n",
        "\n",
        "  for down in down_stack:\n",
        "    x = down(x) # conectamos cada capa del decodificador, la 1 x es inputs\n",
        "    s.append(x)\n",
        "\n",
        "  # le damos la vuelta a la lista eliminando además el último elemento \n",
        "  # que es la capa (bs, 1, 1, 512) y es justo el punto de cuello de botella\n",
        "  # y así ahora conectaremos la primera capa del up_stack con la última del down_stack\n",
        "  # para hacer las skeap connections\n",
        "  s = reversed(s[:-1])\n",
        "  \n",
        "  for up, sk in zip(up_stack, s):\n",
        "    # en el caso de la 1 iteración nos quitaremos el cuello de botella 1x1\n",
        "    x = up(x)\n",
        "    x = concat([x, sk]) # skeap connection\n",
        "\n",
        "  last = last(x)\n",
        "\n",
        "  return Model(inputs = inputs, outputs = last)"
      ],
      "execution_count": null,
      "outputs": []
    },
    {
      "cell_type": "code",
      "metadata": {
        "id": "8LieusUheK1u"
      },
      "source": [
        "generator = Generator()\n",
        "gen_output = generator(((inimg + 1) * 255), training = False)\n",
        "plt.imshow(gen_output[0, ...])"
      ],
      "execution_count": null,
      "outputs": []
    },
    {
      "cell_type": "markdown",
      "metadata": {
        "id": "R5eB54xbefBk"
      },
      "source": [
        "Ahora que tenemos el generador nos queda por hacer el discriminador, que es quien decide si la imágen creada por el generador es o no una imágen cierta o falsa respecto a lo que el disciminador considere que es una imágen correcta. "
      ]
    },
    {
      "cell_type": "code",
      "metadata": {
        "id": "_TAIYsbZeeIt"
      },
      "source": [
        "# Implementos la PatchGan del paper\n",
        "# Sobre el paper, vamos a hacer el discriminador 70x70\n",
        "\n",
        "def Discriminator():\n",
        "  ini = Input(shape = [None, None, 3], name = \"input_img\")\n",
        "  gen = Input(shape = [None, None, 3], name = \"gener_img\")\n",
        "\n",
        "  con = concatenate([ini, gen])\n",
        "\n",
        "  initializer = tf.random_normal_initializer(0, 0.02)\n",
        "\n",
        "  down_1 = downsample(64, apply_batchnorm = False)(con)\n",
        "  down_2 = downsample(128)(down_1)\n",
        "  down_3 = downsample(256)(down_2)\n",
        "  down_4 = downsample(512)(down_3)\n",
        "\n",
        "  last = tf.keras.layers.Conv2D(filters = 1,\n",
        "                                kernel_size = 4,\n",
        "                                strides = 1,\n",
        "                                kernel_initializer = initializer,\n",
        "                                padding = \"same\")(down_4)\n",
        "\n",
        "  return tf.keras.Model(inputs = [ini, gen], outputs = last)"
      ],
      "execution_count": null,
      "outputs": []
    },
    {
      "cell_type": "code",
      "metadata": {
        "id": "xs8YAeGioD0Q"
      },
      "source": [
        "discriminator = Discriminator()\n",
        "disc_out = discriminator([((inimg + 1) * 255), gen_output], training = False)\n",
        "plt.imshow(disc_out[0, ..., -1], vmin = -20, vmax = 20, cmap = 'RdBu_r')\n",
        "plt.colorbar()\n",
        "disc_out.shape"
      ],
      "execution_count": null,
      "outputs": []
    },
    {
      "cell_type": "code",
      "metadata": {
        "id": "S20muV_FokoI"
      },
      "source": [
        "# Por último construimos la funcion de coste adeveraria que es la que va a unir \n",
        "# el generador y discriminador y tener el coste en el entrenamiento\n",
        "loss_object = tf.keras.losses.BinaryCrossentropy(from_logits=True)"
      ],
      "execution_count": null,
      "outputs": []
    },
    {
      "cell_type": "code",
      "metadata": {
        "id": "86lEHMzjpRn9"
      },
      "source": [
        "def discriminator_loss(disc_real_output, disc_generated_output):\n",
        "  # Diferencia entre los true por ser real y el detectado por el discriminador\n",
        "  real_loss = loss_object(tf.ones_like(disc_real_output), disc_real_output)\n",
        "\n",
        "  # Diferencia entre los false por ser generado y el detectado por el discriminador\n",
        "  generated_loss = loss_object(tf.zeros_like(disc_generated_output), disc_generated_output)\n",
        "\n",
        "  total_disc_loss = real_loss + generated_loss\n",
        "  \n",
        "  return total_disc_loss"
      ],
      "execution_count": null,
      "outputs": []
    }
  ]
}